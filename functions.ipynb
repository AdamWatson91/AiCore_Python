{
 "cells": [
  {
   "cell_type": "markdown",
   "metadata": {},
   "source": [
    "Range checker"
   ]
  },
  {
   "cell_type": "code",
   "execution_count": 23,
   "metadata": {},
   "outputs": [
    {
     "name": "stdout",
     "output_type": "stream",
     "text": [
      "10 is NOT between 1 - 10\n"
     ]
    }
   ],
   "source": [
    "def in_range(lower,upper,number):\n",
    "    if number > lower and number < upper:\n",
    "        return str(number)+\" is between \"+str(lower)+\" - \"+str(upper)\n",
    "    print(str(number)+\" is NOT between \"+str(lower)+\" - \"+str(upper))\n",
    "\n",
    "in_range(1,10,10)\n",
    "\n"
   ]
  },
  {
   "cell_type": "markdown",
   "metadata": {},
   "source": [
    "Default arguments"
   ]
  },
  {
   "cell_type": "code",
   "execution_count": 51,
   "metadata": {},
   "outputs": [
    {
     "name": "stdout",
     "output_type": "stream",
     "text": [
      "{'a': 1, 'b': 2, 'c': 3}\n",
      "No, key: 'd' does not exists in dictionary\n",
      "{'a': 1, 'c': 3}\n"
     ]
    }
   ],
   "source": [
    "#Create a function which takes in a dictionary of attributes about a piece of clothing \n",
    "#and prints each of the key-value pairs on a line\n",
    "\n",
    "def clothing_attributes(**kwargs):\n",
    "    return kwargs\n",
    "\n",
    "def attributes_to_print(your_dict, attribute= \"all\"):\n",
    "    in_list = {}\n",
    "    not_in_list ={}\n",
    "    if attribute == \"all\":\n",
    "        print(your_dict)\n",
    "    else:\n",
    "        for key in attribute:\n",
    "            if key in your_dict:\n",
    "                #in_list.update(your_dict)\n",
    "                in_list.update({x:your_dict[key] for x in key})\n",
    "\n",
    "            else:\n",
    "                print(f\"No, key: '{key}' does not exists in dictionary\")\n",
    "\n",
    "        print(in_list)\n",
    "\n",
    "\n",
    "    \n",
    "\n",
    "\n",
    "        \n",
    "\n",
    "\n",
    "list_of_attributes = ['a','c','d']\n",
    "#clothing_attributes(a=1,b=2,c=3)\n",
    "attributes_to_print(clothing_attributes(a=1,b=2,c=3),)\n",
    "attributes_to_print(clothing_attributes(a=1,b=2,c=3),list_of_attributes)\n",
    "\n",
    "\n"
   ]
  },
  {
   "cell_type": "markdown",
   "metadata": {},
   "source": [
    "Profile validation"
   ]
  },
  {
   "cell_type": "code",
   "execution_count": 17,
   "metadata": {},
   "outputs": [
    {
     "name": "stdout",
     "output_type": "stream",
     "text": [
      "ERROR: Your name includes and special character. Please try again\n",
      "ERROR: Your email must include an @ to be valid. Please add a valid email.\n",
      "ERROR: You must be 12 or over to create a profile\n"
     ]
    },
    {
     "data": {
      "text/plain": [
       "{'name': 'Adam', 'age': 13, 'email': 'adamwatson@gmail.com'}"
      ]
     },
     "execution_count": 17,
     "metadata": {},
     "output_type": "execute_result"
    }
   ],
   "source": [
    "#Check the name has no special chracters\n",
    "def name_check(profile):\n",
    "    special_chracters = ['!','@','£','$','%','^','&','*','()']\n",
    "    for s in special_chracters:\n",
    "        for l in profile['name']:\n",
    "            if s == l:\n",
    "                print(\"ERROR: Your name includes a special character. Please try again\")\n",
    "\n",
    "#Check the meail can be considered valid\n",
    "def email_check(profile):\n",
    "    required_character = '@'\n",
    "    if required_character not in profile['email']:\n",
    "        print(\"ERROR: Your email must include an @ to be valid. Please add a valid email.\")\n",
    "\n",
    "#Check that the age limit is reached\n",
    "def age_check(profile):\n",
    "    if profile['age'] <= 12:\n",
    "        print(\"ERROR: You must be 12 or over to create a profile.\")\n",
    "\n",
    "#bring together all functions into on\n",
    "def create_profile(name,age,email):\n",
    "    user_profile = {'name':name, 'age':age, 'email':email}\n",
    "    name_check(user_profile)\n",
    "    email_check(user_profile)\n",
    "    age_check(user_profile)\n",
    "\n",
    "#test the function works\n",
    "create_profile('Ada!m', 12, 'adamwatsongmail.com')\n",
    "create_profile('Adam', 13, 'adamwatson@gmail.com')\n",
    "\n",
    "\n",
    "\n"
   ]
  },
  {
   "cell_type": "markdown",
   "metadata": {},
   "source": [
    "Factorial Function"
   ]
  },
  {
   "cell_type": "code",
   "execution_count": 33,
   "metadata": {},
   "outputs": [
    {
     "data": {
      "text/plain": [
       "6"
      ]
     },
     "execution_count": 33,
     "metadata": {},
     "output_type": "execute_result"
    }
   ],
   "source": [
    "#Factorial of a whole number 'n' is defined as the product of that number with every whole number till 1.\n",
    "def factorial(num):\n",
    "    if num < 2:\n",
    "        return 1\n",
    "    else:\n",
    "        return num * factorial(num-1)\n",
    "\n",
    "factorial(3)"
   ]
  },
  {
   "cell_type": "markdown",
   "metadata": {},
   "source": [
    "A classic - the Recursive Fibonnaci function"
   ]
  },
  {
   "cell_type": "code",
   "execution_count": 35,
   "metadata": {},
   "outputs": [
    {
     "data": {
      "text/plain": [
       "[0, 1, 1, 2, 3, 5, 8, 13, 21, 34, 55, 89, 144, 233, 377]"
      ]
     },
     "execution_count": 35,
     "metadata": {},
     "output_type": "execute_result"
    }
   ],
   "source": [
    "cache = {0: 0, 1: 1}\n",
    "\n",
    "def fibonacci(n):\n",
    "    if n in cache:  # Base case\n",
    "        return cache[n]\n",
    "        # Compute and cache the Fibonacci number\n",
    "    cache[n] = fibonacci(n - 1) + fibonacci(n - 2)  # Recursive case\n",
    "    return cache[n]\n",
    "\n",
    "[fibonacci(n) for n in range(15)]\n",
    "\n",
    "\n",
    "\n"
   ]
  },
  {
   "cell_type": "code",
   "execution_count": null,
   "metadata": {},
   "outputs": [],
   "source": []
  }
 ],
 "metadata": {
  "interpreter": {
   "hash": "350b003f6c899f947fa590b83a4588a285a0ee527869f50b2f784c456d7d3fc3"
  },
  "kernelspec": {
   "display_name": "Python 3.9.5 ('base')",
   "language": "python",
   "name": "python3"
  },
  "language_info": {
   "codemirror_mode": {
    "name": "ipython",
    "version": 3
   },
   "file_extension": ".py",
   "mimetype": "text/x-python",
   "name": "python",
   "nbconvert_exporter": "python",
   "pygments_lexer": "ipython3",
   "version": "3.9.5"
  },
  "orig_nbformat": 4
 },
 "nbformat": 4,
 "nbformat_minor": 2
}
