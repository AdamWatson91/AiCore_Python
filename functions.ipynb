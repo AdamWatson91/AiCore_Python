{
 "cells": [
  {
   "cell_type": "markdown",
   "metadata": {},
   "source": [
    "Range checker"
   ]
  },
  {
   "cell_type": "code",
   "execution_count": 23,
   "metadata": {},
   "outputs": [
    {
     "name": "stdout",
     "output_type": "stream",
     "text": [
      "10 is NOT between 1 - 10\n"
     ]
    }
   ],
   "source": [
    "def in_range(lower,upper,number):\n",
    "    if number > lower and number < upper:\n",
    "        return str(number)+\" is between \"+str(lower)+\" - \"+str(upper)\n",
    "    print(str(number)+\" is NOT between \"+str(lower)+\" - \"+str(upper))\n",
    "\n",
    "in_range(1,10,10)\n",
    "\n"
   ]
  },
  {
   "cell_type": "markdown",
   "metadata": {},
   "source": [
    "Default arguments"
   ]
  },
  {
   "cell_type": "code",
   "execution_count": 51,
   "metadata": {},
   "outputs": [
    {
     "name": "stdout",
     "output_type": "stream",
     "text": [
      "{'a': 1, 'b': 2, 'c': 3}\n",
      "No, key: 'd' does not exists in dictionary\n",
      "{'a': 1, 'c': 3}\n"
     ]
    }
   ],
   "source": [
    "#Create a function which takes in a dictionary of attributes about a piece of clothing \n",
    "#and prints each of the key-value pairs on a line\n",
    "\n",
    "def clothing_attributes(**kwargs):\n",
    "    return kwargs\n",
    "\n",
    "def attributes_to_print(your_dict, attribute= \"all\"):\n",
    "    in_list = {}\n",
    "    not_in_list ={}\n",
    "    if attribute == \"all\":\n",
    "        print(your_dict)\n",
    "    else:\n",
    "        for key in attribute:\n",
    "            if key in your_dict:\n",
    "                #in_list.update(your_dict)\n",
    "                in_list.update({x:your_dict[key] for x in key})\n",
    "\n",
    "            else:\n",
    "                print(f\"No, key: '{key}' does not exists in dictionary\")\n",
    "\n",
    "        print(in_list)\n",
    "    \n",
    "\n",
    "\n",
    "        \n",
    "\n",
    "\n",
    "list_of_attributes = ['a','c','d']\n",
    "#clothing_attributes(a=1,b=2,c=3)\n",
    "attributes_to_print(clothing_attributes(a=1,b=2,c=3),)\n",
    "attributes_to_print(clothing_attributes(a=1,b=2,c=3),list_of_attributes)\n",
    "\n",
    "\n"
   ]
  },
  {
   "cell_type": "markdown",
   "metadata": {},
   "source": []
  }
 ],
 "metadata": {
  "interpreter": {
   "hash": "350b003f6c899f947fa590b83a4588a285a0ee527869f50b2f784c456d7d3fc3"
  },
  "kernelspec": {
   "display_name": "Python 3.9.5 ('base')",
   "language": "python",
   "name": "python3"
  },
  "language_info": {
   "codemirror_mode": {
    "name": "ipython",
    "version": 3
   },
   "file_extension": ".py",
   "mimetype": "text/x-python",
   "name": "python",
   "nbconvert_exporter": "python",
   "pygments_lexer": "ipython3",
   "version": "3.9.5"
  },
  "orig_nbformat": 4
 },
 "nbformat": 4,
 "nbformat_minor": 2
}
