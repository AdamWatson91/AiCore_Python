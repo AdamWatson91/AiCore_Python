{
 "cells": [
  {
   "cell_type": "markdown",
   "metadata": {},
   "source": []
  },
  {
   "cell_type": "markdown",
   "metadata": {},
   "source": [
    "String length"
   ]
  },
  {
   "cell_type": "code",
   "execution_count": 5,
   "metadata": {},
   "outputs": [
    {
     "name": "stdout",
     "output_type": "stream",
     "text": [
      "45\n",
      "P\n",
      "s\n",
      "Ps\n"
     ]
    }
   ],
   "source": [
    "long_word = 'Pneumonoultramicroscopicsilicovolcanoconiosis'\n",
    "print(len(long_word))\n",
    "\n",
    "first_c = long_word[0]\n",
    "last_c = long_word[-1]\n",
    "print(first_c)\n",
    "print(last_c)\n",
    "print(first_c + last_c)\n"
   ]
  },
  {
   "cell_type": "markdown",
   "metadata": {},
   "source": [
    "Basic Arithmetic"
   ]
  },
  {
   "cell_type": "code",
   "execution_count": 7,
   "metadata": {},
   "outputs": [
    {
     "name": "stdout",
     "output_type": "stream",
     "text": [
      "67\n",
      "17\n",
      "1050\n",
      "1.68\n",
      "<class 'int'>\n",
      "<class 'int'>\n",
      "<class 'int'>\n"
     ]
    }
   ],
   "source": [
    "a = 42\n",
    "b = 25\n",
    "print(a+b)\n",
    "print(a-b)\n",
    "print(a*b)\n",
    "print(a/b)\n",
    "ab= a+b\n",
    "print(type(ab))\n",
    "print(type(a+b))\n",
    "print(type(a))"
   ]
  },
  {
   "cell_type": "markdown",
   "metadata": {},
   "source": [
    "Exercises on Numbers"
   ]
  },
  {
   "cell_type": "code",
   "execution_count": 8,
   "metadata": {},
   "outputs": [
    {
     "name": "stdout",
     "output_type": "stream",
     "text": [
      "1044.75\n",
      "-1163220302.3333333\n"
     ]
    }
   ],
   "source": [
    "print((100*10)+50-5.25)\n",
    "print(1 + 2 * 3 - 4 / 6 * (6 + 7)* 8 ** 9)"
   ]
  },
  {
   "cell_type": "markdown",
   "metadata": {},
   "source": [
    "Calculate your shopping bills."
   ]
  },
  {
   "cell_type": "code",
   "execution_count": 11,
   "metadata": {},
   "outputs": [
    {
     "name": "stdout",
     "output_type": "stream",
     "text": [
      "2.18\n",
      "11.32\n"
     ]
    }
   ],
   "source": [
    "tomatoes = 0.87\n",
    "sugar_500g = 1.09\n",
    "washing_sponge = 0.29\n",
    "juice_1_5l = 1.89\n",
    "foil = 1.29\n",
    "\n",
    "unit_price_sugar_kg = sugar_500g*2 \n",
    "shopping_list_total_cost = (washing_sponge*20)+(juice_1_5l*2)+(2*tomatoes)\n",
    "\n",
    "print(unit_price_sugar_kg)\n",
    "print(shopping_list_total_cost)"
   ]
  },
  {
   "cell_type": "markdown",
   "metadata": {},
   "source": [
    "Calculate a groups shopping bills."
   ]
  },
  {
   "cell_type": "code",
   "execution_count": 12,
   "metadata": {},
   "outputs": [
    {
     "name": "stdout",
     "output_type": "stream",
     "text": [
      "22.701999999999998\n",
      "27.24\n"
     ]
    }
   ],
   "source": [
    "total= (tomatoes+(3*washing_sponge)+((juice_1_5l/3)*2)+((foil/3)*2)+((juice_1_5l/500)*180))*5\n",
    "print(total)\n",
    "total_VAT_incld = round(total*1.2,2)\n",
    "print(total_VAT_incld)\n"
   ]
  },
  {
   "cell_type": "markdown",
   "metadata": {},
   "source": [
    "Volumes and surfaces of shapes."
   ]
  },
  {
   "cell_type": "code",
   "execution_count": 16,
   "metadata": {},
   "outputs": [
    {
     "name": "stdout",
     "output_type": "stream",
     "text": [
      "The volume of cuboid is 1562.5 and the surface area is 1839.29\n",
      "The volume of cone is 31.42 and the surface area is 126.67\n"
     ]
    }
   ],
   "source": [
    "import math\n",
    "# Cuboid measuremeants:\n",
    "cb_height = 25/7\n",
    "cb_width = 25/2\n",
    "cb_length = 35\n",
    "# Cone measurements:\n",
    "co_height = 10\n",
    "co_radius = 3\n",
    "\n",
    "cb_vol = round(cb_length * cb_width * cb_height,2)\n",
    "cb_sur_area = round(2*((cb_length*cb_width)+(cb_length*cb_width)+(cb_height*cb_width)),2)\n",
    "\n",
    "co_vol = round(math.pi*(co_radius)*(co_height/3),2)\n",
    "co_sur_area =  round(math.pi * co_radius*(co_radius + math.sqrt(co_height**2+co_radius**2)),2)\n",
    "\n",
    "print('The volume of cuboid is '+str(cb_vol)+ ' and the surface area is '+str(cb_sur_area))\n",
    "print('The volume of cone is '+str(co_vol)+ ' and the surface area is '+str(co_sur_area))"
   ]
  },
  {
   "cell_type": "code",
   "execution_count": 38,
   "metadata": {},
   "outputs": [
    {
     "name": "stdout",
     "output_type": "stream",
     "text": [
      "True\n",
      "False\n",
      "True\n",
      "False\n",
      "True\n",
      "True\n"
     ]
    }
   ],
   "source": [
    "str_test = 'This Assessment Is Taking Forever'\n",
    "\n",
    "print(str_test.endswith('r'))\n",
    "print(str_test.startswith('t'))\n",
    "print(str_test.istitle())\n",
    "print(str_test.isalpha())\n",
    "print(str_test.replace(' ', '').isalpha())\n",
    "print('This' in str_test)\n"
   ]
  }
 ],
 "metadata": {
  "interpreter": {
   "hash": "8e1d2c5a7e80ed31730d948a04bf9b431a30e114a578fa4034053627637fe106"
  },
  "kernelspec": {
   "display_name": "Python 3.9.5 64-bit ('base': conda)",
   "language": "python",
   "name": "python3"
  },
  "language_info": {
   "codemirror_mode": {
    "name": "ipython",
    "version": 3
   },
   "file_extension": ".py",
   "mimetype": "text/x-python",
   "name": "python",
   "nbconvert_exporter": "python",
   "pygments_lexer": "ipython3",
   "version": "3.9.5"
  },
  "orig_nbformat": 4
 },
 "nbformat": 4,
 "nbformat_minor": 2
}
