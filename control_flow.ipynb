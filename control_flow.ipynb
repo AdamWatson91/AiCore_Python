{
 "cells": [
  {
   "cell_type": "markdown",
   "metadata": {},
   "source": [
    "BMI Checker"
   ]
  },
  {
   "cell_type": "code",
   "execution_count": 12,
   "metadata": {},
   "outputs": [
    {
     "name": "stdout",
     "output_type": "stream",
     "text": [
      "You're in the healthy range (20.01)\n"
     ]
    }
   ],
   "source": [
    "#weight (kg) / [height (m)]2\n",
    "\n",
    "\n",
    "def bmi_status(height, weight):\n",
    "    bmi= weight/(height**2)\n",
    "\n",
    "    if bmi < 18.5:\n",
    "        print(\"You're in the underwight range (\"+str(round(bmi,2))+\")\")\n",
    "    elif bmi < 24.9:\n",
    "        print(\"You're in the healthy range (\"+str(round(bmi,2))+\")\")\n",
    "    elif bmi < 29.9:\n",
    "        print(\"You're in the overweight range (\"+str(round(bmi,2))+\")\")\n",
    "    elif bmi < 39.9:\n",
    "        print(\"You're in the obese range (\"+str(round(bmi,2))+\")\")\n",
    "\n",
    "bmi_status(1.91,73)"
   ]
  },
  {
   "cell_type": "markdown",
   "metadata": {},
   "source": [
    "Flight Safety Checker"
   ]
  },
  {
   "cell_type": "code",
   "execution_count": 18,
   "metadata": {},
   "outputs": [
    {
     "name": "stdout",
     "output_type": "stream",
     "text": [
      "safe flying\n"
     ]
    }
   ],
   "source": [
    "altitude= 90\n",
    "airspeed= 125\n",
    "\n",
    "if altitude < 100 | altitude > 50000 | airspeed < 60 | airspeed > 500:\n",
    "        print(\"unsafe flying\")\n",
    "else:\n",
    "    print(\"safe flying\")\n"
   ]
  },
  {
   "cell_type": "markdown",
   "metadata": {},
   "source": [
    "Quiz playground"
   ]
  },
  {
   "cell_type": "code",
   "execution_count": 20,
   "metadata": {},
   "outputs": [
    {
     "name": "stdout",
     "output_type": "stream",
     "text": [
      "yes\n"
     ]
    }
   ],
   "source": [
    "a= 1\n",
    "b= 1\n",
    "\n",
    "if a == 1 & b == 1:\n",
    "    print('yes')"
   ]
  },
  {
   "cell_type": "code",
   "execution_count": 26,
   "metadata": {},
   "outputs": [
    {
     "name": "stdout",
     "output_type": "stream",
     "text": [
      "0\n"
     ]
    }
   ],
   "source": [
    "x= 26\n",
    "\n",
    "print(x%1)"
   ]
  },
  {
   "cell_type": "code",
   "execution_count": 27,
   "metadata": {},
   "outputs": [
    {
     "name": "stdout",
     "output_type": "stream",
     "text": [
      "False\n"
     ]
    }
   ],
   "source": [
    "print(bool(0.0))"
   ]
  },
  {
   "cell_type": "code",
   "execution_count": 30,
   "metadata": {},
   "outputs": [
    {
     "data": {
      "text/plain": [
       "True"
      ]
     },
     "execution_count": 30,
     "metadata": {},
     "output_type": "execute_result"
    }
   ],
   "source": [
    "x = 42\n",
    "505 > x <= 53.2"
   ]
  }
 ],
 "metadata": {
  "interpreter": {
   "hash": "8e1d2c5a7e80ed31730d948a04bf9b431a30e114a578fa4034053627637fe106"
  },
  "kernelspec": {
   "display_name": "Python 3.9.5 64-bit ('base': conda)",
   "language": "python",
   "name": "python3"
  },
  "language_info": {
   "codemirror_mode": {
    "name": "ipython",
    "version": 3
   },
   "file_extension": ".py",
   "mimetype": "text/x-python",
   "name": "python",
   "nbconvert_exporter": "python",
   "pygments_lexer": "ipython3",
   "version": "3.9.5"
  },
  "orig_nbformat": 4
 },
 "nbformat": 4,
 "nbformat_minor": 2
}
