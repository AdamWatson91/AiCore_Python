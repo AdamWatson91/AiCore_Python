{
 "cells": [
  {
   "cell_type": "markdown",
   "metadata": {},
   "source": [
    "Going deep!"
   ]
  },
  {
   "cell_type": "code",
   "execution_count": 21,
   "metadata": {},
   "outputs": [
    {
     "name": "stdout",
     "output_type": "stream",
     "text": [
      "Python\n"
     ]
    }
   ],
   "source": [
    "one_deep_dictionary = {\n",
    "    'start here':1,\n",
    "    'k1':[1,2,3,\n",
    "        {'k2':[1,2,\n",
    "            {'k3':['keep going',\n",
    "                {'further':[1,2,3,4,\n",
    "                    [{'k4':'Python'}]\n",
    "                    ]}]}]}]}\n",
    "\n",
    "print(one_deep_dictionary['k1'][3]['k2'][2]['k3'][1]['further'][4][0]['k4'])\n"
   ]
  },
  {
   "cell_type": "markdown",
   "metadata": {},
   "source": [
    "XOR Gate"
   ]
  },
  {
   "cell_type": "code",
   "execution_count": 24,
   "metadata": {},
   "outputs": [
    {
     "name": "stdout",
     "output_type": "stream",
     "text": [
      "C is True\n",
      "D is False\n",
      "D_NOT is True\n",
      "XOR_3 is True\n"
     ]
    }
   ],
   "source": [
    "# A logic gate is something that combines some binary (true/false) \n",
    "# inputs into a binary output. An XOR gate is a logic gate that \n",
    "# gives a true (1 or HIGH) output when only one of the inputs is true, \n",
    "# but not when both are true. The name XOR is short for \"exclusive OR\".\n",
    "\n",
    "# Create two variables, A and B, whose values are True and False respectively\n",
    "A = True\n",
    "B = False\n",
    "#Using logical operators, calculate: - The output of an OR logic gate (A or B) and store the value in C\n",
    "C = A or B # Checks if one of them is true and therefore should be true as A is true\n",
    "print('C is '+str(C))\n",
    "#The output of an AND logic gate (A and B) and store the value in D\n",
    "D = A and B # Checks if both are true so should be false\n",
    "print('D is '+str(D))\n",
    "#The output of a NAND (not D) and store the value in D_NOT\n",
    "D_NOT = not D # not retruns true if the value is not True. So this will be true as D is False\n",
    "print('D_NOT is '+str(D_NOT))\n",
    "#Finally, the output of the XOR gate (C and D_NOT) and store it in XOR 3\n",
    "XOR_3 = C and D_NOT\n",
    "print('XOR_3 is '+str(XOR_3))"
   ]
  },
  {
   "cell_type": "markdown",
   "metadata": {},
   "source": [
    "Comparing integers"
   ]
  },
  {
   "cell_type": "code",
   "execution_count": 34,
   "metadata": {},
   "outputs": [
    {
     "name": "stdout",
     "output_type": "stream",
     "text": [
      "5 is NOT greater than 10\n"
     ]
    }
   ],
   "source": [
    "x = 10\n",
    "n = input(\"Input a number\") # Careful the input fucntion always returns a string\n",
    "n= int(n)\n",
    "\n",
    "if n > x:\n",
    "    print(str(n)+' is greater than '+str(x))\n",
    "else:\n",
    "    print(str(n)+' is NOT greater than '+str(x))"
   ]
  },
  {
   "cell_type": "markdown",
   "metadata": {},
   "source": [
    "Comparing different data types"
   ]
  },
  {
   "cell_type": "code",
   "execution_count": 35,
   "metadata": {},
   "outputs": [
    {
     "name": "stdout",
     "output_type": "stream",
     "text": [
      "True\n",
      "True\n",
      "True\n",
      "True\n",
      "True\n",
      "True\n"
     ]
    }
   ],
   "source": [
    "print(99 > 5)\n",
    "print(0 == False)\n",
    "print(1 == True)\n",
    "print(6.2 < 7)\n",
    "print(9 >= 9)\n",
    "print(False < True)"
   ]
  }
 ],
 "metadata": {
  "interpreter": {
   "hash": "8e1d2c5a7e80ed31730d948a04bf9b431a30e114a578fa4034053627637fe106"
  },
  "kernelspec": {
   "display_name": "Python 3.9.5 64-bit ('base': conda)",
   "language": "python",
   "name": "python3"
  },
  "language_info": {
   "codemirror_mode": {
    "name": "ipython",
    "version": 3
   },
   "file_extension": ".py",
   "mimetype": "text/x-python",
   "name": "python",
   "nbconvert_exporter": "python",
   "pygments_lexer": "ipython3",
   "version": "3.9.5"
  },
  "orig_nbformat": 4
 },
 "nbformat": 4,
 "nbformat_minor": 2
}
