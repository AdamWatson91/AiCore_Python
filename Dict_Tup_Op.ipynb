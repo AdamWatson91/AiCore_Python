{
 "cells": [
  {
   "cell_type": "markdown",
   "metadata": {},
   "source": [
    "Going deep!"
   ]
  },
  {
   "cell_type": "code",
   "execution_count": 21,
   "metadata": {},
   "outputs": [
    {
     "name": "stdout",
     "output_type": "stream",
     "text": [
      "Python\n"
     ]
    }
   ],
   "source": [
    "one_deep_dictionary = {\n",
    "    'start here':1,\n",
    "    'k1':[1,2,3,\n",
    "        {'k2':[1,2,\n",
    "            {'k3':['keep going',\n",
    "                {'further':[1,2,3,4,\n",
    "                    [{'k4':'Python'}]\n",
    "                    ]}]}]}]}\n",
    "\n",
    "print(one_deep_dictionary['k1'][3]['k2'][2]['k3'][1]['further'][4][0]['k4'])\n"
   ]
  },
  {
   "cell_type": "markdown",
   "metadata": {},
   "source": [
    "XOR Gate"
   ]
  },
  {
   "cell_type": "code",
   "execution_count": 24,
   "metadata": {},
   "outputs": [
    {
     "name": "stdout",
     "output_type": "stream",
     "text": [
      "C is True\n",
      "D is False\n",
      "D_NOT is True\n",
      "XOR_3 is True\n"
     ]
    }
   ],
   "source": [
    "# A logic gate is something that combines some binary (true/false) \n",
    "# inputs into a binary output. An XOR gate is a logic gate that \n",
    "# gives a true (1 or HIGH) output when only one of the inputs is true, \n",
    "# but not when both are true. The name XOR is short for \"exclusive OR\".\n",
    "\n",
    "# Create two variables, A and B, whose values are True and False respectively\n",
    "A = True\n",
    "B = False\n",
    "#Using logical operators, calculate: - The output of an OR logic gate (A or B) and store the value in C\n",
    "C = A or B # Checks if one of them is true and therefore should be true as A is true\n",
    "print('C is '+str(C))\n",
    "#The output of an AND logic gate (A and B) and store the value in D\n",
    "D = A and B # Checks if both are true so should be false\n",
    "print('D is '+str(D))\n",
    "#The output of a NAND (not D) and store the value in D_NOT\n",
    "D_NOT = not D # not retruns true if the value is not True. So this will be true as D is False\n",
    "print('D_NOT is '+str(D_NOT))\n",
    "#Finally, the output of the XOR gate (C and D_NOT) and store it in XOR 3\n",
    "XOR_3 = C and D_NOT\n",
    "print('XOR_3 is '+str(XOR_3))"
   ]
  },
  {
   "cell_type": "markdown",
   "metadata": {},
   "source": [
    "Comparing integers"
   ]
  },
  {
   "cell_type": "code",
   "execution_count": 34,
   "metadata": {},
   "outputs": [
    {
     "name": "stdout",
     "output_type": "stream",
     "text": [
      "5 is NOT greater than 10\n"
     ]
    }
   ],
   "source": [
    "x = 10\n",
    "n = input(\"Input a number\") # Careful the input fucntion always returns a string\n",
    "n= int(n)\n",
    "\n",
    "if n > x:\n",
    "    print(str(n)+' is greater than '+str(x))\n",
    "else:\n",
    "    print(str(n)+' is NOT greater than '+str(x))"
   ]
  },
  {
   "cell_type": "markdown",
   "metadata": {},
   "source": [
    "Comparing different data types"
   ]
  },
  {
   "cell_type": "code",
   "execution_count": 36,
   "metadata": {},
   "outputs": [
    {
     "name": "stdout",
     "output_type": "stream",
     "text": [
      "True\n",
      "True\n",
      "True\n",
      "True\n",
      "True\n",
      "True\n"
     ]
    }
   ],
   "source": [
    "print(99 > 5)\n",
    "print(0 == False)\n",
    "print(1 == True)\n",
    "print(6.2 < 7)\n",
    "print(9 >= 9)\n",
    "print(False < True)"
   ]
  },
  {
   "cell_type": "markdown",
   "metadata": {},
   "source": [
    "Comparing Strings"
   ]
  },
  {
   "cell_type": "code",
   "execution_count": 1,
   "metadata": {},
   "outputs": [
    {
     "name": "stdout",
     "output_type": "stream",
     "text": [
      "False\n",
      "True\n",
      "True\n"
     ]
    }
   ],
   "source": [
    "print('AAA' > 'BBB')\n",
    "print('AAB' > 'AAA')\n",
    "print('aaa' > 'AAA')\n",
    "#Python compares strings lexicographically, using the constituent characters\n",
    "# based on their ASCII or Unicode code points. \n",
    "# The same principle applies for Python3. In ASCII, and therefore in Unicode,\n",
    "# lowercase letters are greater than all uppercase letters. Therefore, 'p' > 'P', and indeed, 'a' > 'Z'.\n",
    "# In your case, \"python\" begins with the letter 'p', whereas \"Python\" begins with the uppercase letter 'P'. \n",
    "# They begin with different code points; the lowercase variant is greater.\n",
    "# The convention that lowercase letters are greater than uppercase letters in ASCII is historical.\n"
   ]
  },
  {
   "cell_type": "markdown",
   "metadata": {},
   "source": [
    "Calculating shopping cost using indexing"
   ]
  },
  {
   "cell_type": "code",
   "execution_count": 72,
   "metadata": {},
   "outputs": [
    {
     "name": "stdout",
     "output_type": "stream",
     "text": [
      "The order subtotal is 15.98\n",
      "The order subtotal is 19.18\n"
     ]
    }
   ],
   "source": [
    "#Create a dictionary called 'shop' with two nested dictionaries called 'prices' and 'pack_sizes'.\n",
    "import math\n",
    "shop = {}\n",
    "shop['prices'] = {}\n",
    "shop['pack_sizes'] = {}\n",
    "shop['prices']['tomato'] = 0.87\n",
    "shop['pack_sizes']['tomato'] = 6\n",
    "#shop['prices']['sugar'] = 1.09\n",
    "#shop['pack_sizes']['sugar'] = 500\n",
    "#shop['prices']['washing sponge'] = 0.29\n",
    "#shop['pack_sizes']['washing sponge'] = 10\n",
    "#shop['prices']['juice'] = 1.09\n",
    "#shop['pack_sizes']['juice'] = 1.5\n",
    "#shop['prices']['foil'] = 1.29\n",
    "#shop['pack_sizes']['foil'] = 30\n",
    "\n",
    "prices = {\n",
    "    'sugar': 1.09,\n",
    "    'washing sponge': 0.29,\n",
    "    'juice': 1.09,\n",
    "    'foil': 1.29,\n",
    " }\n",
    "\n",
    "pack_sizes = {\n",
    "    'sugar': 500,\n",
    "    'washing sponge': 10,\n",
    "    'juice': 1.5,\n",
    "    'foil': 30,\n",
    " }\n",
    "\n",
    "shop['prices'].update(prices)\n",
    "shop['pack_sizes'].update(pack_sizes)\n",
    "\n",
    "shopping_dict = {\n",
    "       'tomato': 18,\n",
    "       'sugar': 2000,\n",
    "       'washing sponge': 20,\n",
    "       'juice': 4.5,\n",
    "       'foil': 120,\n",
    " }\n",
    "\n",
    "shopping_dict_values = shopping_dict.values()\n",
    "shopping_dict_keys = shopping_dict.keys()\n",
    "pack_size_values = shop['pack_sizes'].values()\n",
    "pack_size_keys = shop['pack_sizes'].keys()\n",
    "#print(pack_size_values)\n",
    "#print(pack_size_keys)\n",
    "#print(shopping_dict_keys)\n",
    "#print(shopping_dict_values)\n",
    "\n",
    "#Check how many packs you will need of each item. You can index the 'pack_sizes' key in the 'shop'\n",
    "#  dictionary to check the size of the package of each item\n",
    "#print(shopping_list['tomato' ] / shop['pack_sizes']['tomato']) \n",
    "#print(shopping_dict['tomato'])\n",
    "#print(shop['pack_sizes']['tomato'])\n",
    "#print(shopping_dict['tomato']/shop['pack_sizes']['tomato'])\n",
    "#print(math.ceil(shopping_dict['tomato']/shop['pack_sizes']['tomato']))\n",
    "\n",
    "shopping_list ={}\n",
    "for key in shopping_dict:\n",
    "    packs_needed = math.ceil(shopping_dict[key]/shop['pack_sizes'][key])\n",
    "    shopping_list[key] = packs_needed\n",
    "\n",
    "# Multiply the previous value times the number of packs you are purchasing. Add this value to a new variable.\n",
    "#For example for tomatoes, you can calculate the number of packs by dividing 18 by shop\n",
    "#['pack_sizes']['tomato']\n",
    "#Then you can multiply the result (3 in this case) times the price, so it will be 3 * 0.87\n",
    "shopping_cost_per_item = {}\n",
    "for key in shopping_list:\n",
    "    shopping_cost_per_item[key] = shopping_list[key]*shop['prices'][key]\n",
    "\n",
    "#And store that value in tomatoes_total_price\n",
    "#Finally, do the same for all items and add them up\n",
    "\n",
    "order_subtotal = sum(shopping_cost_per_item.values())\n",
    "print('The order subtotal is '+str(order_subtotal))\n",
    "order_total = round(order_subtotal*1.2,2)\n",
    "print('The order subtotal is '+str(order_total))\n"
   ]
  },
  {
   "cell_type": "markdown",
   "metadata": {},
   "source": [
    "Quiz testing ground"
   ]
  },
  {
   "cell_type": "code",
   "execution_count": 97,
   "metadata": {},
   "outputs": [
    {
     "name": "stdout",
     "output_type": "stream",
     "text": [
      "1\n",
      "4\n"
     ]
    }
   ],
   "source": [
    "tup = (1, 5, 4, 1, 8, 1, 5, 2, 2, 2, 1, 8)\n",
    "print(tup.count(4))\n",
    "print(tup.index(8))"
   ]
  },
  {
   "cell_type": "code",
   "execution_count": 92,
   "metadata": {},
   "outputs": [
    {
     "data": {
      "text/plain": [
       "tuple"
      ]
     },
     "execution_count": 92,
     "metadata": {},
     "output_type": "execute_result"
    }
   ],
   "source": [
    "t= ()\n",
    "\n",
    "type(t)"
   ]
  }
 ],
 "metadata": {
  "interpreter": {
   "hash": "8e1d2c5a7e80ed31730d948a04bf9b431a30e114a578fa4034053627637fe106"
  },
  "kernelspec": {
   "display_name": "Python 3.9.5 64-bit ('base': conda)",
   "language": "python",
   "name": "python3"
  },
  "language_info": {
   "codemirror_mode": {
    "name": "ipython",
    "version": 3
   },
   "file_extension": ".py",
   "mimetype": "text/x-python",
   "name": "python",
   "nbconvert_exporter": "python",
   "pygments_lexer": "ipython3",
   "version": "3.9.5"
  },
  "orig_nbformat": 4
 },
 "nbformat": 4,
 "nbformat_minor": 2
}
