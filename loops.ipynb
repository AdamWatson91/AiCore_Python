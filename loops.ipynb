{
 "cells": [
  {
   "cell_type": "markdown",
   "metadata": {},
   "source": [
    "Counting Even and Odd Numbers"
   ]
  },
  {
   "cell_type": "code",
   "execution_count": 19,
   "metadata": {},
   "outputs": [
    {
     "name": "stdout",
     "output_type": "stream",
     "text": [
      "49\n",
      "2500\n"
     ]
    }
   ],
   "source": [
    "\n",
    "even_num_count = 0\n",
    "odd_num_sum = 0\n",
    "for i in range(1,100):\n",
    "    if i % 2 == 0:\n",
    "        even_num_count += 1\n",
    "    else:\n",
    "        odd_num_sum += i\n",
    "\n",
    "        \n",
    "print(even_num_count)\n",
    "print(odd_num_sum)"
   ]
  },
  {
   "cell_type": "markdown",
   "metadata": {},
   "source": [
    "Palindrome?"
   ]
  },
  {
   "cell_type": "code",
   "execution_count": 41,
   "metadata": {},
   "outputs": [
    {
     "name": "stdout",
     "output_type": "stream",
     "text": [
      "apple IS NOT not a palindrome\n"
     ]
    }
   ],
   "source": [
    "#Create a function which checks whether a word is a palindrome or not\n",
    "#There are several ways to implement this. Some require less code, but some are more efficient; which is yours, and can you think of how to implement the other way?\n",
    "def palindrome(input_word):\n",
    "    word_reverse = ''\n",
    "    for i in input_word:\n",
    "        word_reverse = i + word_reverse\n",
    "\n",
    "    if word_reverse == input_word:\n",
    "        print(input_word+ \" IS a palindrome\")\n",
    "    else:\n",
    "        print(input_word+ \" IS NOT not a palindrome\")\n",
    "\n",
    "palindrome('apple')\n"
   ]
  },
  {
   "cell_type": "markdown",
   "metadata": {},
   "source": [
    "Budget Calculator"
   ]
  },
  {
   "cell_type": "code",
   "execution_count": 70,
   "metadata": {},
   "outputs": [
    {
     "name": "stdout",
     "output_type": "stream",
     "text": [
      "[('tom', 0.87, 4), ('sug', 1.09, 3), ('ws', 0.29, 4), ('juc', 1.89, 1), ('fo', 1.29, 2)]\n"
     ]
    }
   ],
   "source": [
    "order_list = [(\"tom\", 0.87, 4),\n",
    "\n",
    "          (\"sug\", 1.09, 3), \n",
    "          \n",
    "          (\"ws\", 0.29, 4), \n",
    "          \n",
    "          (\"juc\", 1.89, 1), \n",
    "          \n",
    "          (\"fo\", 1.29, 2)]\n",
    "names = {\"tom\":\"Tomatoes\",\n",
    "\n",
    "    \"sug\":\"Sugar\", \n",
    "    \n",
    "    \"ws\":\"Washing Sponges\", \n",
    "    \n",
    "    \"juc\":\"Juice\", \n",
    "    \n",
    "    \"fo\":\"Foil\"}\n",
    "budget = 10.00\n",
    "\n",
    "running_total = 0\n",
    "\n",
    "receipt = []\n",
    "\n",
    "\n",
    "#If the order value exceeds the budget value, it stops adding items and print \"Budget Exceeded!\".\n",
    "order_value = 0\n",
    "\n",
    "while order_value <= budget:\n",
    "    \n",
    "\n",
    "#It produces a receipt by adding items from \"order_list\" sequentially.\n",
    "for i , k in enumerate(order_list):\n",
    "    receipt.append(k)\n",
    "\n",
    "print(receipt)\n",
    "\n",
    "#It prints \"Current Total: £x\" with each iteration\n",
    "\n",
    "#If not, each time it adds items, it should:\n",
    "#Print \"Adding full name of item (quantity)\".\n",
    "#Subtract the price from budget.\n",
    "#Add the price to running_total.\n",
    "#It should print \"running_total\", order and budget formatted into print statements."
   ]
  },
  {
   "cell_type": "markdown",
   "metadata": {},
   "source": [
    "Even and Odd List Comprehension"
   ]
  },
  {
   "cell_type": "code",
   "execution_count": 75,
   "metadata": {},
   "outputs": [
    {
     "name": "stdout",
     "output_type": "stream",
     "text": [
      "[1156, 2704, 484, 8464]\n",
      "[5184, 1600, 5476]\n",
      "[1156, 2704, 5184, 1600, 484, 5476, 8464]\n"
     ]
    }
   ],
   "source": [
    "my_list = [34, 52, 71, 39, 22, 73, 92]\n",
    "\n",
    "even_output = [(i)**2  for i in my_list if i % 2 == 0]\n",
    "odd_output = [(i + 1)**2  for i in my_list if i % 2 != 0]\n",
    "\n",
    "odd_even_output = [(i + 1)**2 if i % 2 != 0 else (i)**2  for i in my_list]\n",
    "\n",
    "print(even_output)\n",
    "print(odd_output)\n",
    "print(odd_even_output)"
   ]
  },
  {
   "cell_type": "markdown",
   "metadata": {},
   "source": [
    "Dictionaries & list comprehensions"
   ]
  },
  {
   "cell_type": "code",
   "execution_count": null,
   "metadata": {},
   "outputs": [],
   "source": []
  },
  {
   "cell_type": "markdown",
   "metadata": {},
   "source": [
    "Shop Item Filter"
   ]
  },
  {
   "cell_type": "code",
   "execution_count": 115,
   "metadata": {},
   "outputs": [
    {
     "name": "stdout",
     "output_type": "stream",
     "text": [
      "{'sug': 1.09, 'cc': 1.89, 'ccz': 1.29}\n",
      "{'Sugar': 1.09, 'Coca-Cola': 1.29, 'Coca-Cola Zero': 1.29}\n"
     ]
    }
   ],
   "source": [
    "\n",
    "shop_dict = {\"tom\":0.87, \"sug\":1.09, \"ws\":0.29, \"cc\":1.89, \"ccz\":1.29}\n",
    "names_dict = {\"tom\":\"Tomatoes\", \"sug\":\"Sugar\", \"ws\":\"Washing Sponges\", \"cc\":\"Coca-Cola\", \"ccz\":\"Coca-Cola Zero\"}\n",
    "#Filter shop_dict using list comprehension to find only items with values of over 1.00\n",
    "filtered_dict = {key:value for (key,value) in shop_dict.items() if value > 1 }\n",
    "#Assign them to a list called filtered_shop by their full names, not their codes, using names_dict.\n",
    "# not working the value is the same for all: filtered_shop = {value2:value1 for (key1,value1) in shop_dict.items() for (key2,value2) in names_dict.items() if value1 > 1 }\n",
    "filtered_shop = {value2:value1 for (key1,value1) in filtered_dict.items() for (key2,value2) in names_dict.items() if key2 in key1 }\n",
    "print(filtered_dict)\n",
    "print(filtered_shop)"
   ]
  },
  {
   "cell_type": "markdown",
   "metadata": {},
   "source": [
    "Shape Maker"
   ]
  },
  {
   "cell_type": "code",
   "execution_count": 19,
   "metadata": {},
   "outputs": [
    {
     "name": "stdout",
     "output_type": "stream",
     "text": [
      "?\n",
      "??\n",
      "???\n",
      "????\n",
      "?????\n",
      "?????\n",
      "????\n",
      "???\n",
      "??\n",
      "?\n",
      "\n"
     ]
    }
   ],
   "source": [
    "n = 5\n",
    "\n",
    "for x in range(0,n):\n",
    "        for y in range(0, x + 1):\n",
    "            print('?', end=\"\")\n",
    "        print(\"\")\n",
    "            \n",
    "for x in range(n + 1, 0, -1):\n",
    "        for y in range(0, x - 1):\n",
    "            print('?', end=\"\")\n",
    "        print(\"\")\n",
    "\n",
    "        "
   ]
  },
  {
   "cell_type": "markdown",
   "metadata": {},
   "source": [
    "Quiz playground"
   ]
  },
  {
   "cell_type": "code",
   "execution_count": 24,
   "metadata": {},
   "outputs": [
    {
     "name": "stdout",
     "output_type": "stream",
     "text": [
      "<class 'tuple'>\n",
      "(0, 0)\n",
      "<class 'tuple'>\n",
      "(1, 1)\n",
      "<class 'tuple'>\n",
      "(2, 2)\n",
      "<class 'tuple'>\n",
      "(3, 3)\n",
      "<class 'tuple'>\n",
      "(4, 4)\n",
      "<class 'tuple'>\n",
      "(5, 5)\n",
      "<class 'tuple'>\n",
      "(6, 6)\n",
      "<class 'tuple'>\n",
      "(7, 7)\n",
      "<class 'tuple'>\n",
      "(8, 8)\n",
      "<class 'tuple'>\n",
      "(9, 9)\n"
     ]
    }
   ],
   "source": [
    "for i in enumerate(range(10)):\n",
    "    print(type(i))\n",
    "    print(i)"
   ]
  }
 ],
 "metadata": {
  "interpreter": {
   "hash": "8e1d2c5a7e80ed31730d948a04bf9b431a30e114a578fa4034053627637fe106"
  },
  "kernelspec": {
   "display_name": "Python 3.9.5 64-bit ('base': conda)",
   "language": "python",
   "name": "python3"
  },
  "language_info": {
   "codemirror_mode": {
    "name": "ipython",
    "version": 3
   },
   "file_extension": ".py",
   "mimetype": "text/x-python",
   "name": "python",
   "nbconvert_exporter": "python",
   "pygments_lexer": "ipython3",
   "version": "3.9.5"
  },
  "orig_nbformat": 4
 },
 "nbformat": 4,
 "nbformat_minor": 2
}
