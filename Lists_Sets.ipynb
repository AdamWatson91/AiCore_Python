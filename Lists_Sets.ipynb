{
 "cells": [
  {
   "cell_type": "markdown",
   "metadata": {},
   "source": [
    "Username list"
   ]
  },
  {
   "cell_type": "code",
   "execution_count": 47,
   "metadata": {},
   "outputs": [
    {
     "name": "stdout",
     "output_type": "stream",
     "text": [
      "aww\n",
      "4\n"
     ]
    }
   ],
   "source": [
    "username = ['aww','aww2','aww3']\n",
    "type(username)\n",
    "len(username)\n",
    "print(username[0])\n",
    "print(len(username[-1]))"
   ]
  },
  {
   "cell_type": "markdown",
   "metadata": {},
   "source": [
    "Letter checker and string reverse"
   ]
  },
  {
   "cell_type": "code",
   "execution_count": 48,
   "metadata": {},
   "outputs": [
    {
     "data": {
      "text/plain": [
       "False"
      ]
     },
     "execution_count": 48,
     "metadata": {},
     "output_type": "execute_result"
    }
   ],
   "source": [
    "phrase1 = 'Clean Couch'\n",
    "phrase2 = 'Giant Table'\n",
    "\n",
    "phrase1[0] == phrase2[0]"
   ]
  },
  {
   "cell_type": "code",
   "execution_count": 49,
   "metadata": {},
   "outputs": [
    {
     "name": "stdout",
     "output_type": "stream",
     "text": [
      "phrase short a is This\n",
      "one previous the than phrase longer significantly a actually is This\n"
     ]
    }
   ],
   "source": [
    "\n",
    "\n",
    "\n",
    "my_string1 = 'This is a short phrase'\n",
    "my_string2 = 'This is actually a significantly longer phrase than the previous one'\n",
    "\n",
    "def  reverse_string(s):\n",
    "    words = s.split(' ') # this splits a string based on space into a list. Could also use list \n",
    "    string =[] # create empty list to store the reversed list\n",
    "    for word in words:\n",
    "        string.insert(0, word) # insert each item of the list (words) at the first index of the new empty string (string). This effectively reverses the order\n",
    "    return print(\" \".join(string)) # this joins them back nto a string but with a space inbetween\n",
    "\n",
    "reverse_string(my_string1)\n",
    "reverse_string(my_string2)\n",
    "\n"
   ]
  },
  {
   "cell_type": "markdown",
   "metadata": {},
   "source": [
    "List elements"
   ]
  },
  {
   "cell_type": "code",
   "execution_count": 50,
   "metadata": {},
   "outputs": [
    {
     "name": "stdout",
     "output_type": "stream",
     "text": [
      "[['aww', 1, 1.2, 'aww 2', 5], [0, 0, 0, 0, 0, 0, 0, 0, 0, 0]]\n",
      "[5, 0]\n"
     ]
    }
   ],
   "source": [
    "list_1 = ['aww',1,1.2,'aww 2',5]\n",
    "list_2 = [0]*10\n",
    "list_3 = [list_1,list_2]\n",
    "print(list_3)\n",
    "\n",
    "list_4 = [list_3[0][4] , list_3[1][4]]\n",
    "print(list_4)\n"
   ]
  },
  {
   "cell_type": "code",
   "execution_count": 80,
   "metadata": {},
   "outputs": [
    {
     "name": "stdout",
     "output_type": "stream",
     "text": [
      "The original list : ['G06 WTR', 'WL11 WFL', 'QW68 PQR']\n",
      "The list after Extracting numbers : [6, 11, 68]\n"
     ]
    },
    {
     "ename": "TypeError",
     "evalue": "int() argument must be a string, a bytes-like object or a number, not 'list'",
     "output_type": "error",
     "traceback": [
      "\u001b[1;31m---------------------------------------------------------------------------\u001b[0m",
      "\u001b[1;31mTypeError\u001b[0m                                 Traceback (most recent call last)",
      "Input \u001b[1;32mIn [80]\u001b[0m, in \u001b[0;36m<module>\u001b[1;34m\u001b[0m\n\u001b[0;32m     16\u001b[0m \u001b[38;5;66;03m# print result\u001b[39;00m\n\u001b[0;32m     17\u001b[0m \u001b[38;5;28mprint\u001b[39m(\u001b[38;5;124m\"\u001b[39m\u001b[38;5;124mThe list after Extracting numbers : \u001b[39m\u001b[38;5;124m\"\u001b[39m \u001b[38;5;241m+\u001b[39m \u001b[38;5;28mstr\u001b[39m(res))\n\u001b[1;32m---> 18\u001b[0m [\u001b[38;5;28mint\u001b[39m(test_list) \u001b[38;5;28;01mfor\u001b[39;00m item \u001b[38;5;129;01min\u001b[39;00m test_list]\n",
      "Input \u001b[1;32mIn [80]\u001b[0m, in \u001b[0;36m<listcomp>\u001b[1;34m(.0)\u001b[0m\n\u001b[0;32m     16\u001b[0m \u001b[38;5;66;03m# print result\u001b[39;00m\n\u001b[0;32m     17\u001b[0m \u001b[38;5;28mprint\u001b[39m(\u001b[38;5;124m\"\u001b[39m\u001b[38;5;124mThe list after Extracting numbers : \u001b[39m\u001b[38;5;124m\"\u001b[39m \u001b[38;5;241m+\u001b[39m \u001b[38;5;28mstr\u001b[39m(res))\n\u001b[1;32m---> 18\u001b[0m [\u001b[38;5;28;43mint\u001b[39;49m\u001b[43m(\u001b[49m\u001b[43mtest_list\u001b[49m\u001b[43m)\u001b[49m \u001b[38;5;28;01mfor\u001b[39;00m item \u001b[38;5;129;01min\u001b[39;00m test_list]\n",
      "\u001b[1;31mTypeError\u001b[0m: int() argument must be a string, a bytes-like object or a number, not 'list'"
     ]
    }
   ],
   "source": [
    "# Python3 code to demonstrate\n",
    "# Extracting numbers from list of strings\n",
    "# using join() + isnumeric() + list comprehension + map()\n",
    "\n",
    "# initializing list\n",
    "test_list = [\"G06 WTR\", \"WL11 WFL\", \"QW68 PQR\"]\n",
    "\n",
    "# printing original list\n",
    "print(\"The original list : \" + str(test_list))\n",
    "\n",
    "# using join() + isnumeric() + list comprehension + map()\n",
    "# Extracting numbers from list of strings\n",
    "res = list(map(lambda sub:int(''.join(\n",
    "\t[ele for ele in sub if ele.isnumeric()])), test_list))\n",
    "\n",
    "# print result\n",
    "print(\"The list after Extracting numbers : \" + str(res))\n",
    "[int(test_list) for item in test_list]\n",
    "\n",
    "\n"
   ]
  },
  {
   "cell_type": "code",
   "execution_count": 79,
   "metadata": {},
   "outputs": [
    {
     "name": "stdout",
     "output_type": "stream",
     "text": [
      "The original list : ['G06 WTR', 'WL11 WFL', 'QW68 PQR']\n"
     ]
    },
    {
     "ename": "IndexError",
     "evalue": "list index out of range",
     "output_type": "error",
     "traceback": [
      "\u001b[1;31m---------------------------------------------------------------------------\u001b[0m",
      "\u001b[1;31mIndexError\u001b[0m                                Traceback (most recent call last)",
      "Input \u001b[1;32mIn [79]\u001b[0m, in \u001b[0;36m<module>\u001b[1;34m\u001b[0m\n\u001b[0;32m      4\u001b[0m \u001b[38;5;28mprint\u001b[39m(\u001b[38;5;124m\"\u001b[39m\u001b[38;5;124mThe original list : \u001b[39m\u001b[38;5;124m\"\u001b[39m \u001b[38;5;241m+\u001b[39m \u001b[38;5;28mstr\u001b[39m(number_plates))\n\u001b[0;32m      6\u001b[0m \u001b[38;5;66;03m# using list comprehension + split()\u001b[39;00m\n\u001b[0;32m      7\u001b[0m \u001b[38;5;66;03m# Extracting numbers from list of strings\u001b[39;00m\n\u001b[1;32m----> 8\u001b[0m res \u001b[38;5;241m=\u001b[39m [\u001b[38;5;28mint\u001b[39m(sub\u001b[38;5;241m.\u001b[39msplit(\u001b[38;5;124m'\u001b[39m\u001b[38;5;124m.\u001b[39m\u001b[38;5;124m'\u001b[39m)[\u001b[38;5;241m1\u001b[39m]) \u001b[38;5;28;01mfor\u001b[39;00m sub \u001b[38;5;129;01min\u001b[39;00m number_plates]\n\u001b[0;32m      9\u001b[0m \u001b[38;5;66;03m# print result\u001b[39;00m\n\u001b[0;32m     10\u001b[0m \u001b[38;5;28mprint\u001b[39m(\u001b[38;5;124m\"\u001b[39m\u001b[38;5;124mThe list after Extracting numbers : \u001b[39m\u001b[38;5;124m\"\u001b[39m \u001b[38;5;241m+\u001b[39m \u001b[38;5;28mstr\u001b[39m(res))\n",
      "Input \u001b[1;32mIn [79]\u001b[0m, in \u001b[0;36m<listcomp>\u001b[1;34m(.0)\u001b[0m\n\u001b[0;32m      4\u001b[0m \u001b[38;5;28mprint\u001b[39m(\u001b[38;5;124m\"\u001b[39m\u001b[38;5;124mThe original list : \u001b[39m\u001b[38;5;124m\"\u001b[39m \u001b[38;5;241m+\u001b[39m \u001b[38;5;28mstr\u001b[39m(number_plates))\n\u001b[0;32m      6\u001b[0m \u001b[38;5;66;03m# using list comprehension + split()\u001b[39;00m\n\u001b[0;32m      7\u001b[0m \u001b[38;5;66;03m# Extracting numbers from list of strings\u001b[39;00m\n\u001b[1;32m----> 8\u001b[0m res \u001b[38;5;241m=\u001b[39m [\u001b[38;5;28mint\u001b[39m(\u001b[43msub\u001b[49m\u001b[38;5;241;43m.\u001b[39;49m\u001b[43msplit\u001b[49m\u001b[43m(\u001b[49m\u001b[38;5;124;43m'\u001b[39;49m\u001b[38;5;124;43m.\u001b[39;49m\u001b[38;5;124;43m'\u001b[39;49m\u001b[43m)\u001b[49m\u001b[43m[\u001b[49m\u001b[38;5;241;43m1\u001b[39;49m\u001b[43m]\u001b[49m) \u001b[38;5;28;01mfor\u001b[39;00m sub \u001b[38;5;129;01min\u001b[39;00m number_plates]\n\u001b[0;32m      9\u001b[0m \u001b[38;5;66;03m# print result\u001b[39;00m\n\u001b[0;32m     10\u001b[0m \u001b[38;5;28mprint\u001b[39m(\u001b[38;5;124m\"\u001b[39m\u001b[38;5;124mThe list after Extracting numbers : \u001b[39m\u001b[38;5;124m\"\u001b[39m \u001b[38;5;241m+\u001b[39m \u001b[38;5;28mstr\u001b[39m(res))\n",
      "\u001b[1;31mIndexError\u001b[0m: list index out of range"
     ]
    }
   ],
   "source": [
    "number_plates = [\"G06 WTR\", \"WL11 WFL\", \"QW68 PQR\"]\n",
    "\n",
    "# printing original list\n",
    "print(\"The original list : \" + str(number_plates))\n",
    "\n",
    "# using list comprehension + split()\n",
    "# Extracting numbers from list of strings\n",
    "res = [int(sub.split('.')[1]) for sub in number_plates]\n",
    "# print result\n",
    "print(\"The list after Extracting numbers : \" + str(res))"
   ]
  },
  {
   "cell_type": "code",
   "execution_count": 83,
   "metadata": {},
   "outputs": [
    {
     "ename": "NameError",
     "evalue": "name 'Compare' is not defined",
     "output_type": "error",
     "traceback": [
      "\u001b[1;31m---------------------------------------------------------------------------\u001b[0m",
      "\u001b[1;31mNameError\u001b[0m                                 Traceback (most recent call last)",
      "Input \u001b[1;32mIn [83]\u001b[0m, in \u001b[0;36m<module>\u001b[1;34m\u001b[0m\n\u001b[0;32m      3\u001b[0m \u001b[38;5;28;01mfor\u001b[39;00m i \u001b[38;5;129;01min\u001b[39;00m \u001b[38;5;28mrange\u001b[39m(\u001b[38;5;28mlen\u001b[39m(name[\u001b[38;5;241m0\u001b[39m])):\n\u001b[0;32m      4\u001b[0m     \u001b[38;5;28;01mfor\u001b[39;00m j \u001b[38;5;129;01min\u001b[39;00m \u001b[38;5;28mrange\u001b[39m(i \u001b[38;5;241m+\u001b[39m \u001b[38;5;241m1\u001b[39m, \u001b[38;5;28mlen\u001b[39m(name[\u001b[38;5;241m1\u001b[39m])):\n\u001b[1;32m----> 5\u001b[0m         \u001b[43mCompare\u001b[49m(name[i], name[j])\n",
      "\u001b[1;31mNameError\u001b[0m: name 'Compare' is not defined"
     ]
    }
   ],
   "source": [
    "# can use set() to conver the list to setand then use operations\n",
    "# differen_update() removes items that exist in both sets\n",
    "#The issuperset() method returns True if a set has every elements of another set (passed as an argument). If not, it returns False.\n",
    "name = ['Adam','Watson']\n",
    "\n",
    "for i in range(len(name[0])):\n",
    "    for j in range(i + 1, len(name[1])):\n",
    "        Compare(name[i], name[j])\n"
   ]
  },
  {
   "cell_type": "markdown",
   "metadata": {},
   "source": [
    "Multiply list items"
   ]
  },
  {
   "cell_type": "code",
   "execution_count": 84,
   "metadata": {},
   "outputs": [
    {
     "name": "stdout",
     "output_type": "stream",
     "text": [
      "[0, 0, 0, 0, 0, 0, 0, 0, 0, 0]\n"
     ]
    }
   ],
   "source": [
    "list_1 = [0]*10\n",
    "print(list_1)"
   ]
  },
  {
   "cell_type": "code",
   "execution_count": 33,
   "metadata": {},
   "outputs": [
    {
     "name": "stdout",
     "output_type": "stream",
     "text": [
      "{'a'}\n",
      "{'e'}\n"
     ]
    }
   ],
   "source": [
    "set_a = {'a', 'b', 'c', 'd'}\n",
    "set_b = {'b', 'c', 'd', 'e'}\n",
    "\n",
    "#print(set_a.union(set_b))\n",
    "#print(set_a.intersection(set_b))\n",
    "print(set_a.difference(set_b)) \n",
    "print(set_b.difference(set_a))\n",
    "#print(set_a.symmetric_difference(set_b))\n",
    "#print(set_b.symmetric_difference(set_a))\n",
    "\n",
    "set_c = {'a', 'b', 'c', 'd','e', 'f', 'g', 'd'}\n",
    "set_d = {'b', 'c', 'd', 'e'}\n",
    "\n",
    "#print(set_c.union(set_c.intersection(set_d)))\n",
    "\n",
    "#set_1 = {1, 2, 3, 4, 5}\n",
    "#set_2 = {2, 4}\n",
    "#set_3 = {2}\n",
    "\n",
    "#print(set_1.issuperset(set_1) is True)\n",
    "#print(set_1.issuperset(set_2) is True)\n",
    "#print(set_2.issuperset(set_1) is True)\n",
    "#print(set_2.issuperset(set_3) is True)\n",
    "#print(set_1[0:4].issuperset(set_2) is True)\n",
    "#print(set_1[0:4].issuperset(set_3) is True)\n",
    "\n",
    "\n",
    "\n"
   ]
  },
  {
   "cell_type": "code",
   "execution_count": 13,
   "metadata": {},
   "outputs": [
    {
     "name": "stdout",
     "output_type": "stream",
     "text": [
      "['banana', 'pineapple', 'apple', 'orange', 'strawberry']\n"
     ]
    }
   ],
   "source": [
    "fruits = ['banana', 'pineapple', 'apple', 'orange', 'strawberry']\n",
    "\n",
    "#sorted(fruits, reverse=True) # YES This sorts in reverse alhanurmeic order\n",
    "#fruits.reverse() # NO This just reverses order\n",
    "#fruits.sort() # NO This sorts in alphanrumeric order\n",
    "#fruits.sort(reverse=True) # YES this sorts in reverse order alphanumerically\n",
    "#fruits.sorted() # NO this errors because sorted is a function and all paramters go inside the brackets\n",
    "#fruits.sorted(reverse=True) # NO this errors because sorted is a function and all paramters go inside the brackets\n",
    "print(fruits)\n"
   ]
  },
  {
   "cell_type": "code",
   "execution_count": 21,
   "metadata": {},
   "outputs": [
    {
     "name": "stdout",
     "output_type": "stream",
     "text": [
      "6\n",
      "2\n",
      "6\n",
      "5\n",
      "6\n",
      "5\n"
     ]
    }
   ],
   "source": [
    "arr = [[[1, 2], [3, 4]],[[5, 6], [7, 8]]]\n",
    "\n",
    "print(arr[1][0][1])\n",
    "print(arr[-2][0][1])\n",
    "print(arr[-1][0][1])\n",
    "print(arr[-1][0][0])\n",
    "print(arr[1][-2][1])\n",
    "print(arr[-1][0][-2])\n"
   ]
  },
  {
   "cell_type": "code",
   "execution_count": 26,
   "metadata": {},
   "outputs": [
    {
     "name": "stdout",
     "output_type": "stream",
     "text": [
      "{'apple', 'cherry', 'banana'}\n"
     ]
    }
   ],
   "source": [
    "fruits = {'apple', 'banana', 'cherry'}\n",
    "#fruits.add('durian') # YES the add function adds to a list unless it already exists\n",
    "#fruits+'durian' # NO this causes an error as this operand cannot be used wiht sets\n",
    "#fruits + {'durian'} # NO this causes an error as this operand cannot be used wiht sets\n",
    "#fruits_2 = {'banana', 'cherry', 'durian'}, fruits.update(fruits_2) # NO this causes an error as this operand cannot be used wiht sets\n",
    "print(fruits)"
   ]
  },
  {
   "cell_type": "code",
   "execution_count": null,
   "metadata": {},
   "outputs": [],
   "source": []
  }
 ],
 "metadata": {
  "interpreter": {
   "hash": "8e1d2c5a7e80ed31730d948a04bf9b431a30e114a578fa4034053627637fe106"
  },
  "kernelspec": {
   "display_name": "Python 3.9.5 64-bit ('base': conda)",
   "language": "python",
   "name": "python3"
  },
  "language_info": {
   "codemirror_mode": {
    "name": "ipython",
    "version": 3
   },
   "file_extension": ".py",
   "mimetype": "text/x-python",
   "name": "python",
   "nbconvert_exporter": "python",
   "pygments_lexer": "ipython3",
   "version": "3.9.5"
  },
  "orig_nbformat": 4
 },
 "nbformat": 4,
 "nbformat_minor": 2
}
